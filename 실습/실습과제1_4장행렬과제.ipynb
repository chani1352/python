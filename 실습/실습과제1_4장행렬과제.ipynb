{
 "cells": [
  {
   "cell_type": "code",
   "execution_count": 5,
   "metadata": {},
   "outputs": [
    {
     "name": "stdout",
     "output_type": "stream",
     "text": [
      "원본 리스트 l: [1, 2, 3, 4]\n",
      "참조한 리스트 la: [1, 2, 3, 4]\n",
      "복사된 리스트 lb: [1, 2, 3]\n",
      "\n",
      "튜플 t: (1, 2, 3)\n",
      "\n",
      "리스트 슬라이싱:\n",
      "\n",
      "에러 발생: list indices must be integers or slices, not tuple\n",
      "[5, 2]\n",
      "<class 'int'>\n",
      "<class 'int'>\n",
      "array('i', [1, 2, 3])\n",
      "5\n",
      "10\n",
      "a= 22, b = 11\n",
      "i: 0, v: 1\n",
      "i: 1, v: 2\n",
      "i: 2, v: 3\n"
     ]
    }
   ],
   "source": [
    "# 리스트 복사하기 (얕은 복사)\n",
    "l = [1, 2, 3]\n",
    "la = l  # la는 l의 참조, 같은 메모리 주소를 가리킴\n",
    "lb = l[:]  # lb는 l의 복사본, 서로 다른 메모리 주소\n",
    "\n",
    "# 리스트에 값 추가하기\n",
    "l.append(4)\n",
    "\n",
    "print(\"원본 리스트 l:\", l)       # [1, 2, 3, 4]\n",
    "print(\"참조한 리스트 la:\", la)   # [1, 2, 3, 4] (la는 l과 동일한 참조)\n",
    "print(\"복사된 리스트 lb:\", lb)   # [1, 2, 3] (lb는 독립적인 리스트)\n",
    "\n",
    "# 튜플 (immutable)\n",
    "t = (1, 2, 3)\n",
    "# t[0] = 10  # 에러: 튜플은 불변(immutable)하기 때문에 요소를 변경할 수 없음\n",
    "\n",
    "print(\"\\n튜플 t:\", t)  # (1, 2, 3)\n",
    "\n",
    "# 슬라이싱 예제 - 리스트는 [::] 형식만 지원\n",
    "matrix = [[0, 1, 2], [3, 4, 5], [6, 7, 8]]\n",
    "\n",
    "# 리스트 슬라이싱 (정상)\n",
    "print(\"\\n리스트 슬라이싱:\")\n",
    "# 행을 역순으로 출력\n",
    "# 열을 역순으로 출력\n",
    "\n",
    "#print(matrix[:1, :1])을 구현하는 리스트 슬라이싱\n",
    "# 첫 번째 행에서 첫 번째 열만 슬라이싱 (== matrix[:1, :1])\n",
    "\n",
    "# 잘못된 슬라이싱 시도 - 튜플로 인식되는 경우\n",
    "try:\n",
    "    print(matrix[::-1,::-1])  # 잘못된 사용, TypeError 발생\n",
    "except TypeError as e:\n",
    "    print(\"\\n에러 발생:\", e)\n",
    "\n",
    "lst1 = [a,b] = [1,2]\n",
    "tpl1 = (c,d) = (3,4)\n",
    "lst1[0] = 5\n",
    "#tpl1[0] = 7\n",
    "print(lst1)\n",
    "print(type(lst1[0]))\n",
    "print(type(tpl1[0]))\n",
    "num = range(10)\n",
    "type(num)\n",
    "num\n",
    "\n",
    "import array ## 파이썬의 배열 \n",
    "my_array = array.array('i', [1, 2, 3])  # 'i'는 정수(int)를 의미\n",
    "# 1차원 배열을 리스트로 묶어서 2차원 배열처럼 사용\n",
    "row1 = array.array('i', [1, 2, 3])\n",
    "row2 = array.array('i', [4, 5, 6])\n",
    "row3 = array.array('i', [7, 8, 9])\n",
    "\n",
    "matrix = [row1, row2, row3]  # 리스트로 2차원 배열처럼 표현\n",
    "\n",
    "# 2차원 배열처럼 접근\n",
    "print(matrix[0])     # 첫 번째 행 출력: [1, 2, 3]\n",
    "print(matrix[1][1])  # 두 번째 행의 두 번째 값 출력: 5\n",
    "#matrix[:1,:2] ##  리스트 인덱스는 튜플 사용 안됨\n",
    "### tuple\n",
    "tup = 10,20,30,40\n",
    "#tup[0] = 11\n",
    "print(tup[0])\n",
    "\n",
    "a,b,c = 10,20,30\n",
    "a,b = 11,22\n",
    "a,b = b, a\n",
    "print(f\"a= {a}, b = {b}\")\n",
    "def test():\n",
    "    return 10,20,30\n",
    "\n",
    "x,y,z = test()\n",
    "\n",
    "l = [1, 2, 3]\n",
    "for i, v in enumerate(l):\n",
    "    print(f\"i: {i}, v: {v}\")\n"
   ]
  },
  {
   "cell_type": "markdown",
   "metadata": {},
   "source": [
    "실습과제4_1 2차원 행렬 난수 초기화 > 전치행렬 만들기 출력"
   ]
  },
  {
   "cell_type": "code",
   "execution_count": 4,
   "metadata": {},
   "outputs": [
    {
     "name": "stdout",
     "output_type": "stream",
     "text": [
      "[[7, 36, 95, 63, 48], [65, 40, 92, 83, 10], [75, 41, 10, 91, 62]]\n",
      "원본 행렬: [[7, 36, 95, 63, 48], [65, 40, 92, 83, 10], [75, 41, 10, 91, 62]]\n",
      "\n",
      "전치 행렬: [[7, 65, 75], [36, 40, 41], [95, 92, 10], [63, 83, 91], [48, 10, 62]]\n"
     ]
    }
   ],
   "source": [
    "import random\n",
    "\n",
    "# (3, 5) 크기의 2차원 배열 생성: 3행 5열\n",
    "rows, cols = (3, 5)\n",
    "\n",
    "matrix = [[random.randint(1,100) for _ in range(cols)] for _ in range(rows)]\n",
    "\n",
    "# 리스트 컴프리헨션과 range()를 사용하여 2차원 배열 만들기\n",
    "## 난수를 사용하여 2차원 배열 만들기\n",
    "print(matrix)\n",
    "\n",
    "print(f\"원본 행렬: {matrix}\")\n",
    "\n",
    "matrix = [[row[col] for row in matrix] for col in range(cols)]\n",
    "# 전치 행렬 (행과 열을 뒤바꿈)\n",
    "print(f\"\\n전치 행렬: {matrix}\")\n"
   ]
  },
  {
   "cell_type": "markdown",
   "metadata": {},
   "source": [
    "실습과제4_2 2차원 행렬의 행과 열을 모두 반전 시키기 > 행을 먼저 역순으로 만든 다음에 열도 역순으로 만든다 "
   ]
  },
  {
   "cell_type": "code",
   "execution_count": 35,
   "metadata": {},
   "outputs": [
    {
     "name": "stdout",
     "output_type": "stream",
     "text": [
      "[[44, 44, 99, 6, 21], [31, 70, 33, 95, 100], [8, 75, 24, 45, 62]]\n",
      "[[62, 45, 24, 75, 8], [100, 95, 33, 70, 31], [21, 6, 99, 44, 44]]\n",
      "\n",
      "행과 열이 모두 반전된 2차원 배열:\n",
      "[62, 45, 24, 75, 8]\n",
      "[100, 95, 33, 70, 31]\n",
      "[21, 6, 99, 44, 44]\n"
     ]
    }
   ],
   "source": [
    "# 행을 반전시키고, 각 행의 열도 반전시키기\n",
    "import random\n",
    "\n",
    "rows, cols = 3,5\n",
    "\n",
    "matrix = [[random.randint(1,100) for _ in range(cols)] for _ in range(rows)]\n",
    "print(matrix)\n",
    "\n",
    "reversed_matrix = [row[::-1] for row in matrix][::-1]\n",
    "print(reversed_matrix)\n",
    "\n",
    "\n",
    "print(\"\\n행과 열이 모두 반전된 2차원 배열:\")\n",
    "for row in reversed_matrix:\n",
    "    print(row)"
   ]
  },
  {
   "cell_type": "markdown",
   "metadata": {},
   "source": [
    "리스트에 대한 사본 만들기: 슬라이싱 > 함수 매개변수 전달시에 슬라이싱으로 만드는 사본을 전달 - 기억해야 한다 \n",
    "리스트 참조변수 공유: la = lst # 같은 list를 두개의 참조변수가 공유"
   ]
  },
  {
   "cell_type": "code",
   "execution_count": 2,
   "metadata": {},
   "outputs": [
    {
     "name": "stdout",
     "output_type": "stream",
     "text": [
      "[0, 11, 2, 3, 4, 5, 6, 7, 8, 9]\n",
      "[99, 8, 7, 6, 5, 4, 3, 2, 1, 0]\n",
      "[11, 11, 2, 3, 4, 5, 6, 7, 8, 9]\n"
     ]
    }
   ],
   "source": [
    "# 리스트[start:stop:step]\n",
    "# start: 시작 인덱스 (포함)\n",
    "# stop: 끝 인덱스 (포함되지 않음)\n",
    "# step: 인덱스 증가 값 (기본값은 1)\n",
    "numbers = [0, 1, 2, 3, 4, 5, 6, 7, 8, 9]\n",
    "# 리스트를 뒤집기\n",
    "reversed_list = numbers[::-1]##함수에 매개변수 전달시에 복사본 전달한다 \n",
    "numbers[1]=11\n",
    "print(numbers)\n",
    "reversed_list[0] = 99\n",
    "print(reversed_list) ##copy - deep copy\n",
    "\n",
    "numbers2 = numbers ##shallow copy\n",
    "numbers2[0] = 11\n",
    "print(numbers)"
   ]
  },
  {
   "cell_type": "markdown",
   "metadata": {},
   "source": [
    "실습과제4_3 2차원 행렬 난수 초기화 > 각 행의 최대값, 다음 최대값, 다다음 최대값을 뽑아 새로운 행렬에 저장한 다음에 출력"
   ]
  },
  {
   "cell_type": "code",
   "execution_count": 50,
   "metadata": {},
   "outputs": [
    {
     "name": "stdout",
     "output_type": "stream",
     "text": [
      " 행렬 출력 : [[61, 82, 92, 76, 5, 55, 34], [85, 55, 16, 18, 64, 54, 36], [75, 29, 51, 13, 42, 2, 36], [67, 11, 81, 87, 38, 5, 96], [48, 5, 50, 14, 16, 6, 95]]\n",
      "\n",
      "결과 행렬 (최대 값부터 3번째 큰 값까지): [[92, 82, 76], [85, 64, 55], [75, 51, 42], [96, 87, 81], [95, 50, 48]]\n"
     ]
    }
   ],
   "source": [
    "import random\n",
    "\n",
    "# 행렬의 크기 정의 (5x7 행렬)\n",
    "rows, cols = 5, 7\n",
    "\n",
    "# 2차원 행렬을 난수로 초기화\n",
    "\n",
    "matrix = [[random.randint(1,100) for _ in range(cols)] for _ in range(rows)]\n",
    "\n",
    "# 행렬 출력\n",
    "print(f\" 행렬 출력 : {matrix}\")\n",
    "\n",
    "\n",
    "# 각 행에서 최대 값부터 3번째 큰 값까지 순서대로 행렬 만들기\n",
    "result_matrix = []\n",
    "\n",
    "for row in matrix:\n",
    "    # 행을 정렬하여 최대 값부터 작은 값으로 정렬\n",
    "    row.sort(reverse=True)\n",
    "    result_matrix.append(row[:3])\n",
    "    # 최대 값부터 3번째 큰 값까지 가져오기\n",
    "    # 결과 행렬에 추가\n",
    "\n",
    "\n",
    "# 결과 행렬 출력\n",
    "print(f\"\\n결과 행렬 (최대 값부터 3번째 큰 값까지): {result_matrix}\")"
   ]
  },
  {
   "cell_type": "markdown",
   "metadata": {},
   "source": [
    "실습과제4_4 2차원 행렬 난수 초기화 > 각 열의 최대값, 다음 최대값, 다다음 최대값을 뽑아 새로운 행렬에 저장한 다음에 출력"
   ]
  },
  {
   "cell_type": "code",
   "execution_count": 52,
   "metadata": {},
   "outputs": [
    {
     "name": "stdout",
     "output_type": "stream",
     "text": [
      " 행렬 출력 : [[52, 15, 64, 95, 62, 49, 38], [21, 95, 65, 55, 79, 69, 43], [35, 26, 52, 10, 76, 85, 39], [17, 14, 48, 37, 85, 93, 26], [17, 24, 49, 59, 14, 69, 23]]\n",
      " 전치 행렬 출력 : [[52, 21, 35, 17, 17], [15, 95, 26, 14, 24], [64, 65, 52, 48, 49], [95, 55, 10, 37, 59], [62, 79, 76, 85, 14], [49, 69, 85, 93, 69], [38, 43, 39, 26, 23]]\n",
      "\n",
      "결과 행렬 (최대 값부터 3번째 큰 값까지): [[52, 35, 21], [95, 26, 24], [65, 64, 52], [95, 59, 55], [85, 79, 76], [93, 85, 69], [43, 39, 38]]\n"
     ]
    }
   ],
   "source": [
    "import random\n",
    "\n",
    "# 행렬의 크기 정의 (5x7 행렬)\n",
    "rows, cols = 5, 7\n",
    "\n",
    "# 2차원 행렬을 난수로 초기화\n",
    "matrix = [[random.randint(1,100) for _ in range(cols)] for _ in range(rows)]\n",
    "\n",
    "# 행렬 출력\n",
    "print(f\" 행렬 출력 : {matrix}\")\n",
    "\n",
    "#전치 행렬\n",
    "matrix = [[row[col] for row in matrix] for col in range(cols)]\n",
    "print(f\" 전치 행렬 출력 : {matrix}\")\n",
    "\n",
    "# 각 열에서 최대 값부터 3번째 큰 값까지 순서대로 행렬 만들기\n",
    "\n",
    "result_matrix = []\n",
    "\n",
    "for row in matrix:\n",
    "    # 행을 정렬하여 최대 값부터 작은 값으로 정렬\n",
    "    row.sort(reverse=True)\n",
    "    result_matrix.append(row[:3])\n",
    "    # 최대 값부터 3번째 큰 값까지 가져오기  \n",
    "    # 결과 행렬에 추가\n",
    "\n",
    "\n",
    "# 결과 행렬 출력\n",
    "print(f\"\\n결과 행렬 (최대 값부터 3번째 큰 값까지): {result_matrix}\")"
   ]
  },
  {
   "cell_type": "markdown",
   "metadata": {},
   "source": [
    "실습과제4_5 2차원 행렬 난수 초기화 > 두 행렬의 덧셈 결과를 새로운 행렬을 만들어 저장 > 출력"
   ]
  },
  {
   "cell_type": "code",
   "execution_count": 77,
   "metadata": {},
   "outputs": [
    {
     "name": "stdout",
     "output_type": "stream",
     "text": [
      "matrix1 : [[74, 75, 20, 61, 66, 78, 28], [77, 61, 10, 18, 94, 37, 44], [85, 4, 74, 19, 48, 37, 97], [34, 65, 57, 65, 88, 87, 13], [79, 80, 81, 50, 49, 51, 96]]\n",
      "matrix2 : [[41, 43, 25, 19, 45, 77, 14], [31, 45, 97, 30, 16, 95, 18], [1, 87, 48, 35, 32, 15, 65], [81, 35, 70, 31, 21, 13, 98], [99, 96, 28, 7, 11, 68, 23]]\n",
      "행렬 덧셈 결과:\n",
      "[115, 118, 45, 80, 111, 155, 42]\n",
      "[108, 106, 107, 48, 110, 132, 62]\n",
      "[86, 91, 122, 54, 80, 52, 162]\n",
      "[115, 100, 127, 96, 109, 100, 111]\n",
      "[178, 176, 109, 57, 60, 119, 119]\n"
     ]
    }
   ],
   "source": [
    "import random\n",
    "\n",
    "# 두 행렬 (5,7)을 난수를 사용하여 초기화\n",
    "matrix1 = [[random.randint(1,100) for _ in range(7)] for _ in range(5)]\n",
    "print(f\"matrix1 : {matrix1}\")\n",
    "matrix2 = [[random.randint(1,100) for _ in range(7)] for _ in range(5)]\n",
    "print(f\"matrix2 : {matrix2}\")\n",
    "rows = len(matrix1)\n",
    "cols = len(matrix1[0])\n",
    "\n",
    "# 각 요소에 대해 더하기 연산 수행\n",
    "\n",
    "result_add = [[matrix1[row][col] + matrix2[row][col] for col in range(cols)] for row in range(rows)]\n",
    "\n",
    "print(\"행렬 덧셈 결과:\")\n",
    "for row in result_add:\n",
    "    print(row)"
   ]
  },
  {
   "cell_type": "markdown",
   "metadata": {},
   "source": [
    "실습과제4_6 2차원 행렬 난수 초기화 > 두 행렬의 곱셈 결과를 새로운 행렬을 만들어 저장 > 출력"
   ]
  },
  {
   "cell_type": "code",
   "execution_count": 101,
   "metadata": {},
   "outputs": [
    {
     "name": "stdout",
     "output_type": "stream",
     "text": [
      "[18, 48, 39, 45, 61, 29, 97]\n",
      "[25, 72, 10, 96, 51, 13, 41]\n",
      "[81, 70, 2, 38, 100, 13, 28]\n",
      "[55, 100, 9, 13, 17, 18, 34]\n",
      "[22, 11, 13, 98, 75, 60, 81]\n",
      "[40, 26, 98, 80, 21, 64, 98, 69, 1]\n",
      "[82, 3, 93, 44, 41, 20, 34, 57, 27]\n",
      "[49, 5, 46, 31, 79, 15, 37, 57, 45]\n",
      "[6, 88, 34, 15, 84, 7, 40, 10, 7]\n",
      "[36, 68, 68, 25, 66, 26, 13, 81, 52]\n",
      "[82, 49, 55, 21, 32, 40, 2, 13, 22]\n",
      "[70, 50, 51, 57, 24, 88, 73, 27, 61]\n",
      "행렬 곱셈 결과:\n",
      "[18201, 15186, 20242, 13099, 16489, 14294, 14571, 14588, 13111]\n",
      "[13742, 15519, 19144, 10803, 17097, 9316, 12790, 12766, 8530]\n",
      "[15932, 14507, 24775, 14561, 15609, 12464, 15282, 19098, 9521]\n",
      "[15387, 6657, 19426, 12015, 9572, 9900, 12382, 12667, 6605]\n",
      "[16297, 21384, 19640, 11869, 18986, 13987, 13939, 12908, 11751]\n"
     ]
    }
   ],
   "source": [
    "import random\n",
    "\n",
    "# 두 행렬의 곱셈\n",
    "# 행렬1 (5,7), 행렬2 (7,9)을 난수를 사용하여 초기화\n",
    "matrix1 = [[random.randint(1,100) for _ in range(7)] for _ in range(5)]\n",
    "for row in matrix1:\n",
    "    print(row)\n",
    "matrix2 = [[random.randint(1,100) for _ in range(9)] for _ in range(7)]\n",
    "for row in matrix2:\n",
    "    print(row)\n",
    "\n",
    "rows1 = len(matrix1)\n",
    "rows2 = len(matrix2)\n",
    "cols = len(matrix2[0])\n",
    "\n",
    "# 결과를 저장할 행렬을 0으로 초기화\n",
    "#result_multiply = [[matrix1[row][col] * matrix2[row][col] for col in range(cols)] for row in range(rows1)]\n",
    "result_multiply=[[0 for _ in range(cols)] for _ in range(rows1)]\n",
    "\n",
    "# 각 요소에 대해 곱셈 연산 수행\n",
    "for i in range(rows1):\n",
    "    for j in range(cols):\n",
    "        for k in range(rows2):\n",
    "            result_multiply[i][j] += matrix1[i][k] * matrix2[k][j]\n",
    "\n",
    "\n",
    "print(\"행렬 곱셈 결과:\")\n",
    "for row in result_multiply:\n",
    "    print(row)"
   ]
  }
 ],
 "metadata": {
  "kernelspec": {
   "display_name": "Python 3",
   "language": "python",
   "name": "python3"
  },
  "language_info": {
   "codemirror_mode": {
    "name": "ipython",
    "version": 3
   },
   "file_extension": ".py",
   "mimetype": "text/x-python",
   "name": "python",
   "nbconvert_exporter": "python",
   "pygments_lexer": "ipython3",
   "version": "3.9.13"
  }
 },
 "nbformat": 4,
 "nbformat_minor": 2
}
