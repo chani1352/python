{
 "cells": [
  {
   "cell_type": "code",
   "execution_count": 18,
   "metadata": {},
   "outputs": [
    {
     "name": "stdout",
     "output_type": "stream",
     "text": [
      "bmw\n",
      "subaru\n",
      "\n",
      "정렬 전 자동차 리스트: ['bmw', 'audi', 'hyundai', 'toyota', 'subaru']\n",
      "\n",
      "정렬 후 자동차 리스트: ['audi', 'bmw', 'hyundai', 'subaru', 'toyota']\n",
      "정렬된 자동차 리스트: audi\n",
      "정렬된 자동차 리스트: bmw\n",
      "정렬된 자동차 리스트: hyundai\n",
      "정렬된 자동차 리스트: subaru\n",
      "정렬된 자동차 리스트: toyota\n"
     ]
    }
   ],
   "source": [
    "# 실습과제1_3,4장_리스트\n",
    "# 빈 cars 리스트 생성\n",
    "cars = []\n",
    "cars.append('bmw')\n",
    "cars.append('audi')\n",
    "cars.append('toyota')\n",
    "cars.append('subaru')\n",
    "cars.insert(2,'hyundai')\n",
    "\n",
    "print(cars[0])\n",
    "print(cars[len(cars)-1])\n",
    "\n",
    "# 자동차 리스트에 자동차 이름 추가 (append, insert 사용)\n",
    "\n",
    "# 세 번째 위치에 삽입\n",
    "\n",
    "\n",
    "# f-문자열과 리스트 인덱스를 사용하여 첫 번째와 마지막 요소 출력\n",
    "\n",
    "\n",
    "# 정렬하기 전의 리스트 출력\n",
    "print(f\"\\n정렬 전 자동차 리스트: {cars}\")\n",
    "\n",
    "# 리스트 정렬\n",
    "\n",
    "cars.sort()\n",
    "\n",
    "\n",
    "# 정렬 후의 리스트 출력\n",
    "print(f\"\\n정렬 후 자동차 리스트: {cars}\")\n",
    "\n",
    "# 정렬된 리스트를 for loop로 각 행에 하나씩 출력\n",
    "for car in cars:\n",
    "  print(f\"정렬된 자동차 리스트: {car}\")\n"
   ]
  },
  {
   "cell_type": "code",
   "execution_count": null,
   "metadata": {},
   "outputs": [],
   "source": [
    "4장 리스트 다루기 실습"
   ]
  },
  {
   "cell_type": "code",
   "execution_count": 32,
   "metadata": {},
   "outputs": [
    {
     "name": "stdout",
     "output_type": "stream",
     "text": [
      "<class 'list'>\n",
      "range(0, 4)\n",
      "<class 'range'>\n",
      "[0, 1, 2, 3]\n",
      "[0, 1, 2, 3]\n",
      "<class 'list'>\n",
      "[1, 9, 25, 49, 81]\n",
      "[9, 25]\n",
      "[81, 25, 1]\n",
      "1\n",
      "9\n",
      "25\n"
     ]
    }
   ],
   "source": [
    "#리스트\n",
    "l=[1,2,3,4]\n",
    "print(type(l))\n",
    "\n",
    "a = range(4)\n",
    "print(a)\n",
    "print(type(a))\n",
    "print(list(a))\n",
    "b=list(range(4))\n",
    "print(b)\n",
    "print(type(b))\n",
    "\n",
    "\n",
    "squares = [value**2 for value in range(1,11,2)]\n",
    "print(squares)\n",
    "print(squares[-4:-2])\n",
    "print(squares[::-2])\n",
    "\n",
    "for v in squares[:3]:\n",
    "  print(v)"
   ]
  }
 ],
 "metadata": {
  "kernelspec": {
   "display_name": "Python 3",
   "language": "python",
   "name": "python3"
  },
  "language_info": {
   "codemirror_mode": {
    "name": "ipython",
    "version": 3
   },
   "file_extension": ".py",
   "mimetype": "text/x-python",
   "name": "python",
   "nbconvert_exporter": "python",
   "pygments_lexer": "ipython3",
   "version": "3.9.13"
  }
 },
 "nbformat": 4,
 "nbformat_minor": 2
}
