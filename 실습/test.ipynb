{
 "cells": [
  {
   "cell_type": "code",
   "execution_count": 12,
   "metadata": {},
   "outputs": [
    {
     "name": "stdout",
     "output_type": "stream",
     "text": [
      "good이 포함되어 있다\n",
      "토핑 = mushroom\n",
      "토핑 = onions\n",
      "토핑 = pineapple\n",
      "포함되어 있다\n",
      "포함되어 있지 않다\n",
      "<class 'tuple'>\n",
      "거짓\n"
     ]
    }
   ],
   "source": [
    "symbol1 = 'good nice'\n",
    "if 'good' in symbol1:\n",
    "  print(f\"good이 포함되어 있다\")\n",
    "\n",
    "requested_toppings = ['mushroom','onions','pineapple']\n",
    "\n",
    "for topping in requested_toppings:\n",
    "  print(f\"토핑 = {topping}\")\n",
    "\n",
    "if 'mushroom' in requested_toppings:\n",
    "  print(f\"포함되어 있다\")\n",
    "else:\n",
    "  print(\"양념없다{}\".format(requested_toppings[2]))\n",
    "\n",
    "if 'tomato' not in requested_toppings:\n",
    "  print(f\"포함되어 있지 않다\")\n",
    "#elif  ~~: \n"
   ]
  },
  {
   "cell_type": "code",
   "execution_count": 13,
   "metadata": {},
   "outputs": [
    {
     "name": "stdout",
     "output_type": "stream",
     "text": [
      "<class 'tuple'>\n",
      "거짓\n"
     ]
    }
   ],
   "source": [
    "lst = ()  \n",
    "\n",
    "print(type(lst))\n",
    "\n",
    "if lst:\n",
    "  print(\"참\")\n",
    "else:\n",
    "  print(\"거짓\")\n",
    "\n",
    "#false로 반환되는 값 : none, 0, 0.0, 빈컨테이너 (비어 있는 문자열, 바이트열, 리스트,튜플,딕셔너리)"
   ]
  },
  {
   "cell_type": "code",
   "execution_count": 27,
   "metadata": {},
   "outputs": [
    {
     "name": "stdout",
     "output_type": "stream",
     "text": [
      "1번째 : Java\n",
      "5번째 : Java\n",
      "1\n",
      "1\n"
     ]
    }
   ],
   "source": [
    "languages = ['python','Java','C++','JavaScript','Ruby','Java']\n",
    "\n",
    "for i,lang in enumerate(languages):\n",
    "  if lang=='Java':\n",
    "    print(f\"{i}번째 : {lang}\")\n",
    "\n",
    "for lang in languages:\n",
    "  if lang == 'Java':\n",
    "    print(languages.index(lang))"
   ]
  },
  {
   "cell_type": "code",
   "execution_count": 31,
   "metadata": {},
   "outputs": [
    {
     "name": "stdout",
     "output_type": "stream",
     "text": [
      "<class 'dict'>\n",
      "{'name': 'John', 'age': 30}\n",
      "John\n",
      "{'name': 'John', 'age': 30, 'city': 'busan'}\n"
     ]
    }
   ],
   "source": [
    "person = {'name' : 'John', 'age' : 30}\n",
    "print(type(person))\n",
    "print(person)\n",
    "\n",
    "print(person['name'])\n",
    "\n",
    "person['city']='busan'\n",
    "print(person)\n",
    "\n"
   ]
  },
  {
   "cell_type": "code",
   "execution_count": 32,
   "metadata": {},
   "outputs": [
    {
     "ename": "AttributeError",
     "evalue": "'list' object has no attribute 'items'",
     "output_type": "error",
     "traceback": [
      "\u001b[1;31m---------------------------------------------------------------------------\u001b[0m",
      "\u001b[1;31mAttributeError\u001b[0m                            Traceback (most recent call last)",
      "Cell \u001b[1;32mIn[32], line 3\u001b[0m\n\u001b[0;32m      1\u001b[0m l \u001b[38;5;241m=\u001b[39m [\u001b[38;5;124m'\u001b[39m\u001b[38;5;124mgood\u001b[39m\u001b[38;5;124m'\u001b[39m,\u001b[38;5;124m'\u001b[39m\u001b[38;5;124mnice\u001b[39m\u001b[38;5;124m'\u001b[39m,\u001b[38;5;124m'\u001b[39m\u001b[38;5;124mok\u001b[39m\u001b[38;5;124m'\u001b[39m]\n\u001b[1;32m----> 3\u001b[0m \u001b[38;5;28;01mfor\u001b[39;00m k,v \u001b[38;5;129;01min\u001b[39;00m \u001b[43ml\u001b[49m\u001b[38;5;241;43m.\u001b[39;49m\u001b[43mitems\u001b[49m():\n\u001b[0;32m      4\u001b[0m   \u001b[38;5;28mprint\u001b[39m(\u001b[38;5;124mf\u001b[39m\u001b[38;5;124m\"\u001b[39m\u001b[38;5;132;01m{\u001b[39;00mk번째\u001b[38;5;132;01m}\u001b[39;00m\u001b[38;5;124m : \u001b[39m\u001b[38;5;132;01m{\u001b[39;00mv\u001b[38;5;132;01m}\u001b[39;00m\u001b[38;5;124m\"\u001b[39m)\n",
      "\u001b[1;31mAttributeError\u001b[0m: 'list' object has no attribute 'items'"
     ]
    }
   ],
   "source": [
    "l = ['good','nice','ok']\n",
    "\n",
    "for k,v in l.items():  #딕셔너리에서 items() 사용 가능\n",
    "  print(f\"{k번째} : {v}\")"
   ]
  },
  {
   "cell_type": "code",
   "execution_count": null,
   "metadata": {},
   "outputs": [],
   "source": []
  }
 ],
 "metadata": {
  "kernelspec": {
   "display_name": "Python 3",
   "language": "python",
   "name": "python3"
  },
  "language_info": {
   "codemirror_mode": {
    "name": "ipython",
    "version": 3
   },
   "file_extension": ".py",
   "mimetype": "text/x-python",
   "name": "python",
   "nbconvert_exporter": "python",
   "pygments_lexer": "ipython3",
   "version": "3.9.13"
  }
 },
 "nbformat": 4,
 "nbformat_minor": 2
}
