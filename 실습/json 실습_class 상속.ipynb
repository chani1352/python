{
 "cells": [
  {
   "cell_type": "code",
   "execution_count": null,
   "metadata": {},
   "outputs": [],
   "source": [
    "class Person : \n",
    "  def __init__(self,name,address,city):\n",
    "\n",
    "  pass\n",
    "class Employee(Person):\n",
    "  def __init__(self,name,address,city,coding,salary)\n",
    "  pass\n",
    "class Student(Person):\n",
    "  def __init__(self,name,address,city,dept,schoolyear)\n",
    "  pass\n",
    "학과명 학번\n",
    "\n",
    "json file로 저장 > json load  > table로 출력\n",
    "\n",
    "각 class 객체 5개씩\n",
    "\n"
   ]
  }
 ],
 "metadata": {
  "language_info": {
   "name": "python"
  }
 },
 "nbformat": 4,
 "nbformat_minor": 2
}
